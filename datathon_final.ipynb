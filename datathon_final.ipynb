{
 "cells": [
  {
   "cell_type": "code",
   "execution_count": null,
   "id": "6af0afbd-d192-4edd-b872-efd84f6d6c11",
   "metadata": {},
   "outputs": [],
   "source": [
    "\n",
    "import pandas as pd\n",
    "import numpy as np\n",
    "import matplotlib.pyplot as plt\n",
    "import seaborn as sns\n",
    "from sklearn.model_selection import train_test_split\n",
    "from sklearn.preprocessing import LabelEncoder\n",
    "from sklearn.ensemble import RandomForestRegressor\n",
    "from xgboost import XGBRegressor\n",
    "from sklearn.metrics import mean_absolute_error, mean_squared_error, r2_score\n",
    "import warnings\n",
    "warnings.filterwarnings('ignore')"
   ]
  },
  {
   "cell_type": "code",
   "execution_count": null,
   "id": "65549557-9255-40ba-be00-76d813dfd98f",
   "metadata": {},
   "outputs": [],
   "source": [
    "\n",
    "try:\n",
    "    import cupy as cp\n",
    "    from cuml.ensemble import RandomForestRegressor as cuRFR\n",
    "    GPU_AVAILABLE = True\n",
    "    print(\"GPU acceleration available - using cuML and cuDF\")\n",
    "except ImportError:\n",
    "    GPU_AVAILABLE = False\n",
    "    print(\"GPU not available - falling back to CPU\")"
   ]
  },
  {
   "cell_type": "code",
   "execution_count": null,
   "id": "de69f11e-6c3a-4196-be3a-cc0c11af36fc",
   "metadata": {},
   "outputs": [],
   "source": [
    "\n",
    "if GPU_AVAILABLE:\n",
    "    import cudf\n",
    "    train_df = cudf.read_csv('train.csv')\n",
    "    test_df = cudf.read_csv('test.csv')\n",
    "    sample_submission = cudf.read_csv('sample_submission.csv')\n",
    "else:\n",
    "    train_df = pd.read_csv('train.csv')\n",
    "    test_df = pd.read_csv('test.csv')\n",
    "    sample_submission = pd.read_csv('sample_submission00.csv')\n",
    "   \n",
    "test_ids = test_df['Unique ID'].copy()"
   ]
  },
  {
   "cell_type": "code",
   "execution_count": null,
   "id": "16731563-41d9-4dba-ad14-fcf463a806a0",
   "metadata": {},
   "outputs": [],
   "source": [
    "\n",
    "train_df['Penalty'] = train_df['Penalty'].fillna(\"No Penalty\")\n",
    "test_df['Penalty'] = test_df['Penalty'].fillna(\"No Penalty\")"
   ]
  },
  {
   "cell_type": "code",
   "execution_count": null,
   "id": "cec3443d-d592-4509-8448-982ed928cc9b",
   "metadata": {},
   "outputs": [],
   "source": [
    "\n",
    "low_card_cols = ['category_x', 'Track_Condition', 'Tire_Compound_Front', \n",
    "                'Tire_Compound_Rear', 'Penalty', 'Session', 'weather', 'track']\n",
    "\n",
    "train_df = pd.get_dummies(train_df, columns=low_card_cols, drop_first=True)\n",
    "test_df = pd.get_dummies(test_df, columns=low_card_cols, drop_first=True)\n",
    "\n",
    "high_card_cols = ['shortname', 'circuit_name', 'rider_name', 'team_name', 'bike_name']\n",
    "le = LabelEncoder()\n",
    "for col in high_card_cols:\n",
    "    train_df[col] = le.fit_transform(train_df[col].astype(str))\n",
    "    test_df[col] = le.transform(test_df[col].astype(str))"
   ]
  },
  {
   "cell_type": "code",
   "execution_count": null,
   "id": "a705c0ec-7cf5-421b-9705-c4c01ef9731b",
   "metadata": {},
   "outputs": [],
   "source": [
    "\n",
    "train_df, test_df = train_df.align(test_df, join='left', axis=1, fill_value=0)\n",
    "\n",
    "if GPU_AVAILABLE:\n",
    "    viz_df = train_df.to_pandas()\n",
    "else:\n",
    "    viz_df = train_df"
   ]
  },
  {
   "cell_type": "code",
   "execution_count": null,
   "id": "fb4ad58c-aadc-474f-842f-c42913243737",
   "metadata": {},
   "outputs": [],
   "source": [
    "\n",
    "plt.figure(figsize=(10, 6))\n",
    "sns.histplot(train_df['Lap_Time_Seconds'].to_pandas() if hasattr(train_df, 'to_pandas') else train_df['Lap_Time_Seconds'], \n",
    "             bins=50, kde=True)\n",
    "plt.title(\"Distribution of Lap Times\")\n",
    "plt.xlabel(\"Lap Time (seconds)\")\n",
    "plt.ylabel(\"Frequency\")\n",
    "plt.show()\n",
    "\n",
    "\n",
    "corr_matrix = train_df.to_pandas().corr() if hasattr(train_df, 'to_pandas') else train_df.corr()\n",
    "plt.figure(figsize=(15, 10))\n",
    "sns.heatmap(corr_matrix[['Lap_Time_Seconds']].sort_values(by='Lap_Time_Seconds', ascending=False), \n",
    "            annot=True, cmap='coolwarm')\n",
    "plt.title(\"Features Correlation with Lap Time\")\n",
    "plt.show()"
   ]
  },
  {
   "cell_type": "code",
   "execution_count": null,
   "id": "b21a5cc3-48bd-43d2-b3e5-92216bdc8fe1",
   "metadata": {},
   "outputs": [],
   "source": [
    "\n",
    "X = train_df.drop(columns=['Lap_Time_Seconds', 'Unique ID'])\n",
    "y = train_df['Lap_Time_Seconds']\n",
    "\n",
    "X_train, X_val, y_train, y_val = train_test_split(X, y, test_size=0.2, random_state=42)\n"
   ]
  },
  {
   "cell_type": "code",
   "execution_count": null,
   "id": "2d521f96-aca9-41da-90db-ad22e7309456",
   "metadata": {},
   "outputs": [],
   "source": [
    "corr_matrix = train_df.corr()\n",
    "plt.figure(figsize=(15, 10))\n",
    "sns.heatmap(corr_matrix[['Lap_Time_Seconds']].sort_values(by='Lap_Time_Seconds', ascending=False), \n",
    "            annot=True, cmap='coolwarm')\n",
    "plt.title(\"Features Correlation with Lap Time\")\n",
    "plt.show()"
   ]
  },
  {
   "cell_type": "code",
   "execution_count": null,
   "id": "a942b733-3aee-405a-b133-a2712673fe7c",
   "metadata": {},
   "outputs": [],
   "source": [
    "\n",
    "if GPU_AVAILABLE:\n",
    "    print(\"Training with GPU acceleration\")\n",
    " \n",
    "    rf_model = cuRFR(n_estimators=100, max_depth=10, random_state=42)\n",
    "    rf_model.fit(X_train, y_train)\n",
    "   \n",
    "    xgb_model = XGBRegressor(n_estimators=500, max_depth=8, \n",
    "                           learning_rate=0.05, random_state=42,\n",
    "                           tree_method='gpu_hist', gpu_id=0)\n",
    "    \n",
    "    X_train_pd = X_train.to_pandas() if hasattr(X_train, 'to_pandas') else X_train\n",
    "    y_train_pd = y_train.to_pandas() if hasattr(y_train, 'to_pandas') else y_train\n",
    "    X_val_pd = X_val.to_pandas() if hasattr(X_val, 'to_pandas') else X_val\n",
    "    y_val_pd = y_val.to_pandas() if hasattr(y_val, 'to_pandas') else y_val\n",
    "  \n",
    "    xgb_model.fit(X_train_pd, y_train_pd)\n",
    "else:\n",
    "    print(\"Training on CPU\")\n",
    "  \n",
    "    rf_model = RandomForestRegressor(n_estimators=100, max_depth=10, \n",
    "                                   random_state=42, n_jobs=-1)\n",
    "   \n",
    "    xgb_model = XGBRegressor(n_estimators=500, max_depth=8,\n",
    "                           learning_rate=0.05, random_state=42, n_jobs=-1)\n",
    "    \n",
    "   \n",
    "    rf_model.fit(X_train, y_train)\n",
    "    xgb_model.fit(X_train, y_train)\n",
    "    X_train_pd, y_train_pd, X_val_pd, y_val_pd = X_train, y_train, X_val, y_val"
   ]
  },
  {
   "cell_type": "code",
   "execution_count": null,
   "id": "a16974f9-8ee1-48b3-8aa7-de81fa1f9b63",
   "metadata": {},
   "outputs": [],
   "source": [
    "\n",
    "rf_model.fit(X_train_pd, y_train_pd)\n",
    "xgb_model.fit(X_train_pd, y_train_pd)"
   ]
  },
  {
   "cell_type": "code",
   "execution_count": null,
   "id": "71bfd245-c99e-407d-b1df-50115a8866f9",
   "metadata": {},
   "outputs": [],
   "source": [
    "\n",
    "def evaluate_model(model, X_val, y_val):\n",
    "    y_pred = model.predict(X_val)\n",
    "    \n",
    "    mae = mean_absolute_error(y_val, y_pred)\n",
    "    mse = mean_squared_error(y_val, y_pred)\n",
    "    rmse = np.sqrt(mse)\n",
    "    r2 = r2_score(y_val, y_pred)\n",
    "    \n",
    "    print(f\"MAE: {mae:.4f}\")\n",
    "    print(f\"MSE: {mse:.4f}\")\n",
    "    print(f\"RMSE: {rmse:.4f}\")\n",
    "    print(f\"R2 Score: {r2:.4f}\")\n",
    "    \n",
    "    return y_pred\n",
    "\n",
    "print(\"Random Forest Performance:\")\n",
    "rf_pred = evaluate_model(rf_model, X_val_pd, y_val_pd)\n",
    "\n",
    "print(\"\\nXGBoost Performance:\")\n",
    "xgb_pred = evaluate_model(xgb_model, X_val_pd, y_val_pd)"
   ]
  },
  {
   "cell_type": "code",
   "execution_count": null,
   "id": "c97c570d-f666-42e4-8451-ff80c33bd7c2",
   "metadata": {},
   "outputs": [],
   "source": [
    "print(\"Random Forest Performance:\")\n",
    "rf_pred = evaluate_model(rf_model, X_val, y_val)\n",
    "\n",
    "print(\"\\nXGBoost Performance:\")\n",
    "xgb_pred = evaluate_model(xgb_model, X_val, y_val)"
   ]
  },
  {
   "cell_type": "code",
   "execution_count": null,
   "id": "67308a67-de79-4e9c-ba7f-f71cd6ef7468",
   "metadata": {},
   "outputs": [],
   "source": [
    "\n",
    "rf_feature_imp = pd.DataFrame({\n",
    "    'Feature': X.columns.to_list() if hasattr(X.columns, 'to_list') else X.columns,\n",
    "    'Importance': rf_model.feature_importances_\n",
    "}).sort_values('Importance', ascending=False)\n",
    "\n",
    "plt.figure(figsize=(12, 8))\n",
    "sns.barplot(x='Importance', y='Feature', data=rf_feature_imp.head(20))\n",
    "plt.title(\"Random Forest Feature Importance\")\n",
    "plt.show()\n",
    "\n",
    "\n",
    "xgb_feature_imp = pd.DataFrame({\n",
    "    'Feature': X.columns.to_list() if hasattr(X.columns, 'to_list') else X.columns,\n",
    "    'Importance': xgb_model.feature_importances_\n",
    "}).sort_values('Importance', ascending=False)\n",
    "\n",
    "plt.figure(figsize=(12, 8))\n",
    "sns.barplot(x='Importance', y='Feature', data=xgb_feature_imp.head(20))\n",
    "plt.title(\"XGBoost Feature Importance\")\n",
    "plt.show()\n"
   ]
  },
  {
   "cell_type": "code",
   "execution_count": null,
   "id": "c490ce86-e680-46f1-94f4-1d425f1d9a3d",
   "metadata": {},
   "outputs": [],
   "source": [
    "\n",
    "test_features = test_df[X.columns] \n",
    "\n",
    "\n",
    "if GPU_AVAILABLE and hasattr(test_features, 'to_pandas'):\n",
    "    test_features_pd = test_features.to_pandas()\n",
    "else:\n",
    "    test_features_pd = test_features\n",
    "\n",
    "final_predictions = xgb_model.predict(test_features_pd)\n",
    "\n",
    "\n",
    "submission = pd.DataFrame({\n",
    "    'Unique ID': test_ids.to_pandas() if hasattr(test_ids, 'to_pandas') else test_ids,\n",
    "    'Lap_Time_Seconds': final_predictions\n",
    "})\n",
    "\n",
    "submission.to_csv('sub.csv', index=False)\n"
   ]
  },
  {
   "cell_type": "code",
   "execution_count": null,
   "id": "ca55fe43-9918-4ee5-96ac-02fce7bef3c8",
   "metadata": {},
   "outputs": [],
   "source": [
    "column_names = train_df.columns\n",
    "print(column_names)"
   ]
  },
  {
   "cell_type": "code",
   "execution_count": null,
   "id": "dc7fa764-e444-47b8-97ae-e3a0c03932c8",
   "metadata": {},
   "outputs": [],
   "source": []
  }
 ],
 "metadata": {
  "kernelspec": {
   "display_name": "Python 3",
   "language": "python",
   "name": "python3"
  },
  "language_info": {
   "codemirror_mode": {
    "name": "ipython",
    "version": 3
   },
   "file_extension": ".py",
   "mimetype": "text/x-python",
   "name": "python",
   "nbconvert_exporter": "python",
   "pygments_lexer": "ipython3",
   "version": "3.10.10"
  }
 },
 "nbformat": 4,
 "nbformat_minor": 5
}
